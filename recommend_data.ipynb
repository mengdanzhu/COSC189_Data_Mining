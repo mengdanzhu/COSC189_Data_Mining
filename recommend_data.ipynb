{
 "cells": [
  {
   "cell_type": "code",
   "execution_count": 1,
   "metadata": {},
   "outputs": [],
   "source": [
    "import pandas as pd\n",
    "import re\n",
    "import time\n",
    "import re\n",
    "import nltk\n",
    "from nltk.corpus import stopwords\n",
    "import string\n",
    "from sklearn.feature_extraction.text import CountVectorizer\n",
    "from sklearn.model_selection import train_test_split\n",
    "import numpy as np"
   ]
  },
  {
   "cell_type": "code",
   "execution_count": 2,
   "metadata": {},
   "outputs": [],
   "source": [
    "#read data\n",
    "binary_data=pd.read_csv('text4cls.csv')\n",
    "vote_text=binary_data['text']\n",
    "help_text=binary_data['help']"
   ]
  },
  {
   "cell_type": "code",
   "execution_count": 3,
   "metadata": {},
   "outputs": [],
   "source": [
    "#remove \\t\\n\n",
    "def preprocess(x):\n",
    "    a=re.sub(r'\\t*|\\n','',str(x)).split('\\r')\n",
    "    b=[]\n",
    "    for i in a:\n",
    "        b.append(re.sub(r'Posted:','*',i).split('*')[0].strip())\n",
    "    b=[b for b in b if b]\n",
    "    return b[0]"
   ]
  },
  {
   "cell_type": "code",
   "execution_count": 4,
   "metadata": {},
   "outputs": [
    {
     "data": {
      "text/plain": [
       "'Refined gameplay, with layers of mechanics, on top of a traditional clicker. Kept me entertained for hours.Although a new product on Steam, I can tell this game has been through many iterations of improvements. And I really connected with the weird mysticism theme, too. The secondary core mechanic is capturing void entities and then spamming class-specific spells at them. I really enjoyed that part of the game, and it does require some thinking about spell combinations. Since Idle Wizard is a free to play game, it was easy to get started, and the \"pay for tokens\" system did not get in my way at all.This game uses the unity game engine, and it worked fine on my ubuntu linux desktop. I did use the ubuntu tool \"xdotool\" to speed along my mouseclicking. Even with this \"cheat\", this game was way, way, waaaaay too slow for me. After several hours, I had only advanced to unlock a specific class and obtain the first couple spells. I am sure that is okay for many people who leave it running in the background, but this game seems to want your active attention. Your mileage may vary, so check it out, since it is no-cost and kind of fun to learn the mechanics.'"
      ]
     },
     "execution_count": 4,
     "metadata": {},
     "output_type": "execute_result"
    }
   ],
   "source": [
    "preprocess(vote_text[0])"
   ]
  },
  {
   "cell_type": "code",
   "execution_count": null,
   "metadata": {},
   "outputs": [],
   "source": [
    "#clean help \n",
    "clean_vote_help=[]\n",
    "for i in range(len(help_text)):\n",
    "    clean_vote_help.append(preprocess(help_text[i]))\n",
    "#clean vote and make empty cell for null value   \n",
    "clean_vote_text=[]\n",
    "for i in range(len(vote_text)):\n",
    "    try:\n",
    "        clean_vote_text.append(preprocess(vote_text[i]))\n",
    "    except IndexError:\n",
    "        clean_vote_text.append('')    "
   ]
  },
  {
   "cell_type": "code",
   "execution_count": null,
   "metadata": {},
   "outputs": [],
   "source": [
    "#make a copy of 100000 data\n",
    "new_vote=binary_data.copy()\n",
    "new_vote['text']=clean_vote_text\n",
    "new_vote['help']=clean_vote_help\n",
    "new_vote=new_vote.drop(columns=\"Unnamed: 0\")"
   ]
  },
  {
   "cell_type": "code",
   "execution_count": null,
   "metadata": {},
   "outputs": [],
   "source": [
    "#replace empty cell to NaN\n",
    "new_vote=new_vote.replace(r'^\\s*$', np.nan, regex=True)\n",
    "#drop all NaN\n",
    "new_vote=new_vote.dropna()"
   ]
  },
  {
   "cell_type": "code",
   "execution_count": null,
   "metadata": {},
   "outputs": [],
   "source": [
    "#text normalization\n",
    "def text_normalizer(text):\n",
    "    text=text.lower()\n",
    "    my_stopwords=set(stopwords.words('english')+list(string.punctuation)+[\"can't\",'would','u','cant','dont','im','ive'])\n",
    "    text=re.sub('[^A-Za-z]+', ' ', text)\n",
    "    text=text.split(' ')\n",
    "    text=[w for w in text if w not in my_stopwords]\n",
    "    text=[w for w in text if w]\n",
    "    porter=nltk.PorterStemmer()   \n",
    "    text=[porter.stem(t) for t in text]\n",
    "    return ' '.join(text)"
   ]
  },
  {
   "cell_type": "code",
   "execution_count": null,
   "metadata": {},
   "outputs": [],
   "source": [
    "#reset index \n",
    "new_vote = new_vote.reset_index(drop=True)"
   ]
  },
  {
   "cell_type": "code",
   "execution_count": null,
   "metadata": {},
   "outputs": [],
   "source": [
    "#normalize each review \n",
    "final_vote_word=[]\n",
    "for i in range(len(new_vote['text'])):\n",
    "    final_vote_word.append(text_normalizer(new_vote['text'][i]))"
   ]
  },
  {
   "cell_type": "code",
   "execution_count": null,
   "metadata": {},
   "outputs": [],
   "source": [
    "#convert vote to recommend with 0 1\n",
    "final_vote['recommend']=[1 if i=='Recommended' else 0 for i in final_vote['vote']]"
   ]
  },
  {
   "cell_type": "code",
   "execution_count": null,
   "metadata": {},
   "outputs": [],
   "source": [
    "#extract helpful and funny\n",
    "helpful=[]\n",
    "funny=[]\n",
    "for i in final_vote['help']:\n",
    "    i=re.sub(r'[^\\d]+',' ',i).split(' ')\n",
    "    helpful.append(str(i[0]))\n",
    "    funny.append(str(i[1]))"
   ]
  },
  {
   "cell_type": "code",
   "execution_count": null,
   "metadata": {},
   "outputs": [],
   "source": [
    "#make a copy of new_vote and combine necessary columns\n",
    "final_vote=new_vote.copy()\n",
    "final_vote['text']=final_vote_word\n",
    "final_vote['help']=new_vote['help']\n",
    "final_vote['recommend']=[1 if i=='Recommended' else 0 for i in final_vote['vote']]\n",
    "final_vote['helpful']=['0' if i=='' else i for i in helpful]\n",
    "final_vote['funny']=['0' if i=='' else i for i in funny]\n",
    "final_vote.to_csv('clean_vote_vect.csv', index=False)"
   ]
  },
  {
   "cell_type": "code",
   "execution_count": 5,
   "metadata": {},
   "outputs": [],
   "source": [
    "#read the data\n",
    "final_vote=pd.read_csv('clean_vote_vect.csv')"
   ]
  },
  {
   "cell_type": "code",
   "execution_count": 9,
   "metadata": {},
   "outputs": [
    {
     "data": {
      "text/plain": [
       "(101871, 6)"
      ]
     },
     "execution_count": 9,
     "metadata": {},
     "output_type": "execute_result"
    }
   ],
   "source": [
    "final_vote.shape"
   ]
  },
  {
   "cell_type": "code",
   "execution_count": 10,
   "metadata": {},
   "outputs": [],
   "source": [
    "#split training and testing\n",
    "X_train,X_test,y_train,y_test=train_test_split(final_vote['text'],\n",
    "                                              final_vote['recommend'],\n",
    "                                              test_size=0.25,\n",
    "                                              random_state=0)\n",
    "X_train,X_val,y_train,y_val=train_test_split(X_train,\n",
    "                                             y_train,\n",
    "                                              test_size=0.25,\n",
    "                                              random_state=0)"
   ]
  },
  {
   "cell_type": "code",
   "execution_count": 11,
   "metadata": {
    "scrolled": true
   },
   "outputs": [
    {
     "data": {
      "text/plain": [
       "54473     potenti great game quit yet tho alway wish mod...\n",
       "90774                            scp simul could use peanut\n",
       "59802              jump helicarri hulk land forc game crash\n",
       "80135     banish game focus exclus citi build resourc ma...\n",
       "95394     board game variou softwar implement probabl pl...\n",
       "6924      point game mix feel recommend bare posit reall...\n",
       "4363        want play simul need great pc beest choic trust\n",
       "100875    like game trion world big let frist block ip r...\n",
       "47728     love subnautica insan graphic support earli ac...\n",
       "45747                                         fun game good\n",
       "83728     starter play game steam releas replay steam eb...\n",
       "42187     hello everybodi play game want wast timehahahahah\n",
       "61947       love super intuit nice get support vive control\n",
       "99831     come stronghold crusad game realli love fade a...\n",
       "11216     game oh game oooooooh game ooooooooooooooooooo...\n",
       "9745      softwar great seem work well low end pc amd cp...\n",
       "29860     major review state game recycl previou far cri...\n",
       "59860     like fun relax game thought take review sectio...\n",
       "54496     coloni surviv great voxel style game dev activ...\n",
       "31392     alright bat go clarifi hitman superfan play hi...\n",
       "80049     watch young coupl start famili year watch daug...\n",
       "49025     let start amaz citi build game best gener like...\n",
       "2059      much differ anno game okay right much casual m...\n",
       "92928                         game reason bought vr headset\n",
       "43219     good problem monster get stuck lot sawn ground...\n",
       "67365     game instil irrat deep seat hatr fat peopl sce...\n",
       "19685     love good golf game saw golf club releas paid ...\n",
       "5477      surprisingli good game player invad singleplay...\n",
       "26296     awesom game definetli get beam ng drive buy no...\n",
       "3539      impress reviv tomb raider franchis high hope i...\n",
       "                                ...                        \n",
       "58495                                       eve offlin good\n",
       "76145                            far best fallout game seri\n",
       "95175                kind like dark soul without estu flask\n",
       "85487     red hot fieri anger feel game embodi everyth d...\n",
       "23356                                              bad game\n",
       "68719     homeworld remast releas februari spite homewor...\n",
       "55807     truli incred virtual world playstat home aspir...\n",
       "19352     one hardest game recommend surfac beauti studi...\n",
       "27280              best experi ever time travel come around\n",
       "67259     game dev gay listen commun break thing nt alre...\n",
       "12928     good remak colon back new engin good retouch e...\n",
       "12893     word religion revolutionth continu tac mod mod...\n",
       "37053               entertain minut better abl play game hz\n",
       "95186     game awesom addict hell challeng rogu legaci r...\n",
       "98577     capcom put lot work continu add content game n...\n",
       "39624                                              poker vr\n",
       "20752     eve onlin bit like life bore time excit take r...\n",
       "33211     like play haha color graphic mix humor perfect...\n",
       "9685      rememb play soooooooooo often first came saw s...\n",
       "33379     amaz game uniqu playstyl feel art music gorgeo...\n",
       "48915     realli disappoint game look great ton content ...\n",
       "23390     game way mani bug man got game sale christma d...\n",
       "34533     mostli good except fact need find riddler trop...\n",
       "5308                                              good soft\n",
       "42674            em episod good good pray tell fuc mn short\n",
       "78460     scariest game ever brilliant realis alien univ...\n",
       "41923     game buggi frequent freez crash stick origin v...\n",
       "15907     crap add microtransact year old game year rele...\n",
       "1279                                  one best vn experienc\n",
       "74543     realli like game much fun play peopl also cute...\n",
       "Name: text, Length: 25468, dtype: object"
      ]
     },
     "execution_count": 11,
     "metadata": {},
     "output_type": "execute_result"
    }
   ],
   "source": [
    "X_test"
   ]
  },
  {
   "cell_type": "code",
   "execution_count": 12,
   "metadata": {},
   "outputs": [],
   "source": [
    "#set type\n",
    "X_train=X_train.values.astype('U')\n",
    "X_test=X_test.values.astype('U')"
   ]
  },
  {
   "cell_type": "code",
   "execution_count": 16,
   "metadata": {},
   "outputs": [],
   "source": [
    "### 1-gram\n",
    "vect=CountVectorizer(ngram_range=(1,1),min_df=5).fit(X_train)\n",
    "vect_name=vect.get_feature_names()\n",
    "X_train_vectorized = vect.transform(X_train)\n",
    "full_text_matrix=vect.transform(final_vote['text'].values.astype('U'))"
   ]
  },
  {
   "cell_type": "code",
   "execution_count": 17,
   "metadata": {},
   "outputs": [
    {
     "data": {
      "text/html": [
       "<div>\n",
       "<style scoped>\n",
       "    .dataframe tbody tr th:only-of-type {\n",
       "        vertical-align: middle;\n",
       "    }\n",
       "\n",
       "    .dataframe tbody tr th {\n",
       "        vertical-align: top;\n",
       "    }\n",
       "\n",
       "    .dataframe thead th {\n",
       "        text-align: right;\n",
       "    }\n",
       "</style>\n",
       "<table border=\"1\" class=\"dataframe\">\n",
       "  <thead>\n",
       "    <tr style=\"text-align: right;\">\n",
       "      <th></th>\n",
       "      <th>aa</th>\n",
       "      <th>aaa</th>\n",
       "      <th>aaaand</th>\n",
       "      <th>aaand</th>\n",
       "      <th>ab</th>\n",
       "      <th>aback</th>\n",
       "      <th>abandon</th>\n",
       "      <th>abandonwar</th>\n",
       "      <th>abbrevi</th>\n",
       "      <th>abduct</th>\n",
       "      <th>...</th>\n",
       "      <th>zk</th>\n",
       "      <th>zombi</th>\n",
       "      <th>zomboid</th>\n",
       "      <th>zone</th>\n",
       "      <th>zoo</th>\n",
       "      <th>zoom</th>\n",
       "      <th>ztd</th>\n",
       "      <th>zu</th>\n",
       "      <th>zula</th>\n",
       "      <th>zweihand</th>\n",
       "    </tr>\n",
       "  </thead>\n",
       "  <tbody>\n",
       "    <tr>\n",
       "      <th>0</th>\n",
       "      <td>0</td>\n",
       "      <td>0</td>\n",
       "      <td>0</td>\n",
       "      <td>0</td>\n",
       "      <td>0</td>\n",
       "      <td>0</td>\n",
       "      <td>0</td>\n",
       "      <td>0</td>\n",
       "      <td>0</td>\n",
       "      <td>0</td>\n",
       "      <td>...</td>\n",
       "      <td>0</td>\n",
       "      <td>0</td>\n",
       "      <td>0</td>\n",
       "      <td>0</td>\n",
       "      <td>0</td>\n",
       "      <td>0</td>\n",
       "      <td>0</td>\n",
       "      <td>0</td>\n",
       "      <td>0</td>\n",
       "      <td>0</td>\n",
       "    </tr>\n",
       "    <tr>\n",
       "      <th>1</th>\n",
       "      <td>0</td>\n",
       "      <td>0</td>\n",
       "      <td>0</td>\n",
       "      <td>0</td>\n",
       "      <td>0</td>\n",
       "      <td>0</td>\n",
       "      <td>0</td>\n",
       "      <td>0</td>\n",
       "      <td>0</td>\n",
       "      <td>0</td>\n",
       "      <td>...</td>\n",
       "      <td>0</td>\n",
       "      <td>0</td>\n",
       "      <td>0</td>\n",
       "      <td>0</td>\n",
       "      <td>0</td>\n",
       "      <td>0</td>\n",
       "      <td>0</td>\n",
       "      <td>0</td>\n",
       "      <td>0</td>\n",
       "      <td>0</td>\n",
       "    </tr>\n",
       "    <tr>\n",
       "      <th>2</th>\n",
       "      <td>0</td>\n",
       "      <td>0</td>\n",
       "      <td>0</td>\n",
       "      <td>0</td>\n",
       "      <td>0</td>\n",
       "      <td>0</td>\n",
       "      <td>0</td>\n",
       "      <td>0</td>\n",
       "      <td>0</td>\n",
       "      <td>0</td>\n",
       "      <td>...</td>\n",
       "      <td>0</td>\n",
       "      <td>0</td>\n",
       "      <td>0</td>\n",
       "      <td>0</td>\n",
       "      <td>0</td>\n",
       "      <td>0</td>\n",
       "      <td>0</td>\n",
       "      <td>0</td>\n",
       "      <td>0</td>\n",
       "      <td>0</td>\n",
       "    </tr>\n",
       "    <tr>\n",
       "      <th>3</th>\n",
       "      <td>0</td>\n",
       "      <td>0</td>\n",
       "      <td>0</td>\n",
       "      <td>0</td>\n",
       "      <td>0</td>\n",
       "      <td>0</td>\n",
       "      <td>0</td>\n",
       "      <td>0</td>\n",
       "      <td>0</td>\n",
       "      <td>0</td>\n",
       "      <td>...</td>\n",
       "      <td>0</td>\n",
       "      <td>0</td>\n",
       "      <td>0</td>\n",
       "      <td>0</td>\n",
       "      <td>0</td>\n",
       "      <td>0</td>\n",
       "      <td>0</td>\n",
       "      <td>0</td>\n",
       "      <td>0</td>\n",
       "      <td>0</td>\n",
       "    </tr>\n",
       "    <tr>\n",
       "      <th>4</th>\n",
       "      <td>0</td>\n",
       "      <td>0</td>\n",
       "      <td>0</td>\n",
       "      <td>0</td>\n",
       "      <td>0</td>\n",
       "      <td>0</td>\n",
       "      <td>0</td>\n",
       "      <td>0</td>\n",
       "      <td>0</td>\n",
       "      <td>0</td>\n",
       "      <td>...</td>\n",
       "      <td>0</td>\n",
       "      <td>0</td>\n",
       "      <td>0</td>\n",
       "      <td>0</td>\n",
       "      <td>0</td>\n",
       "      <td>0</td>\n",
       "      <td>0</td>\n",
       "      <td>0</td>\n",
       "      <td>0</td>\n",
       "      <td>0</td>\n",
       "    </tr>\n",
       "  </tbody>\n",
       "</table>\n",
       "<p>5 rows × 14033 columns</p>\n",
       "</div>"
      ],
      "text/plain": [
       "   aa  aaa  aaaand  aaand  ab  aback  abandon  abandonwar  abbrevi  abduct  \\\n",
       "0   0    0       0      0   0      0        0           0        0       0   \n",
       "1   0    0       0      0   0      0        0           0        0       0   \n",
       "2   0    0       0      0   0      0        0           0        0       0   \n",
       "3   0    0       0      0   0      0        0           0        0       0   \n",
       "4   0    0       0      0   0      0        0           0        0       0   \n",
       "\n",
       "   ...  zk  zombi  zomboid  zone  zoo  zoom  ztd  zu  zula  zweihand  \n",
       "0  ...   0      0        0     0    0     0    0   0     0         0  \n",
       "1  ...   0      0        0     0    0     0    0   0     0         0  \n",
       "2  ...   0      0        0     0    0     0    0   0     0         0  \n",
       "3  ...   0      0        0     0    0     0    0   0     0         0  \n",
       "4  ...   0      0        0     0    0     0    0   0     0         0  \n",
       "\n",
       "[5 rows x 14033 columns]"
      ]
     },
     "execution_count": 17,
     "metadata": {},
     "output_type": "execute_result"
    }
   ],
   "source": [
    "#sparce matrix\n",
    "text_vector=pd.DataFrame(full_text_matrix.toarray(),columns=vect.get_feature_names())\n",
    "text_vector.head()"
   ]
  },
  {
   "cell_type": "code",
   "execution_count": 18,
   "metadata": {},
   "outputs": [
    {
     "name": "stderr",
     "output_type": "stream",
     "text": [
      "C:\\Anaconda\\lib\\site-packages\\sklearn\\linear_model\\logistic.py:433: FutureWarning: Default solver will be changed to 'lbfgs' in 0.22. Specify a solver to silence this warning.\n",
      "  FutureWarning)\n",
      "C:\\Anaconda\\lib\\site-packages\\sklearn\\svm\\base.py:922: ConvergenceWarning: Liblinear failed to converge, increase the number of iterations.\n",
      "  \"the number of iterations.\", ConvergenceWarning)\n"
     ]
    }
   ],
   "source": [
    "#logistic regression\n",
    "from sklearn.linear_model import LogisticRegression\n",
    "model = LogisticRegression()\n",
    "model.fit(X_train_vectorized, y_train)\n",
    "score_pred = model.predict(vect.transform(X_test))"
   ]
  },
  {
   "cell_type": "code",
   "execution_count": 20,
   "metadata": {},
   "outputs": [
    {
     "name": "stdout",
     "output_type": "stream",
     "text": [
      "[[ 3912  2202]\n",
      " [  936 18418]]\n",
      "0.9214989743333167\n",
      "0.8767865556777132\n"
     ]
    }
   ],
   "source": [
    "#results for logstic regression\n",
    "from sklearn.metrics import accuracy_score, confusion_matrix,f1_score\n",
    "print(confusion_matrix(y_test,score_pred))\n",
    "print(f1_score(y_test,score_pred))\n",
    "print(accuracy_score(y_test,score_pred))"
   ]
  }
 ],
 "metadata": {
  "kernelspec": {
   "display_name": "Python 3",
   "language": "python",
   "name": "python3"
  },
  "language_info": {
   "codemirror_mode": {
    "name": "ipython",
    "version": 3
   },
   "file_extension": ".py",
   "mimetype": "text/x-python",
   "name": "python",
   "nbconvert_exporter": "python",
   "pygments_lexer": "ipython3",
   "version": "3.7.1"
  }
 },
 "nbformat": 4,
 "nbformat_minor": 2
}
