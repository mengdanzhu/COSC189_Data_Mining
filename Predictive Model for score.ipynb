{
 "cells": [
  {
   "cell_type": "code",
   "execution_count": 1,
   "metadata": {},
   "outputs": [],
   "source": [
    "import pandas as pd\n",
    "import numpy as np\n",
    "from textblob import TextBlob\n",
    "from sklearn.model_selection import train_test_split\n",
    "from sklearn.feature_extraction.text import CountVectorizer\n",
    "from sklearn.metrics import accuracy_score, confusion_matrix,f1_score\n",
    "from sklearn.metrics import r2_score,mean_absolute_error,mean_squared_error"
   ]
  },
  {
   "cell_type": "code",
   "execution_count": 2,
   "metadata": {},
   "outputs": [],
   "source": [
    "df = pd.read_csv('vect_word.csv')"
   ]
  },
  {
   "cell_type": "code",
   "execution_count": 3,
   "metadata": {},
   "outputs": [
    {
     "data": {
      "text/plain": [
       "(323, 4)"
      ]
     },
     "execution_count": 3,
     "metadata": {},
     "output_type": "execute_result"
    }
   ],
   "source": [
    "df.shape"
   ]
  },
  {
   "cell_type": "code",
   "execution_count": 4,
   "metadata": {},
   "outputs": [
    {
     "data": {
      "text/html": [
       "<div>\n",
       "<style scoped>\n",
       "    .dataframe tbody tr th:only-of-type {\n",
       "        vertical-align: middle;\n",
       "    }\n",
       "\n",
       "    .dataframe tbody tr th {\n",
       "        vertical-align: top;\n",
       "    }\n",
       "\n",
       "    .dataframe thead th {\n",
       "        text-align: right;\n",
       "    }\n",
       "</style>\n",
       "<table border=\"1\" class=\"dataframe\">\n",
       "  <thead>\n",
       "    <tr style=\"text-align: right;\">\n",
       "      <th></th>\n",
       "      <th>Unnamed: 0</th>\n",
       "      <th>id</th>\n",
       "      <th>text</th>\n",
       "      <th>score</th>\n",
       "    </tr>\n",
       "  </thead>\n",
       "  <tbody>\n",
       "    <tr>\n",
       "      <th>0</th>\n",
       "      <td>0</td>\n",
       "      <td>570</td>\n",
       "      <td>k want great life job money girl etc play game...</td>\n",
       "      <td>90</td>\n",
       "    </tr>\n",
       "    <tr>\n",
       "      <th>1</th>\n",
       "      <td>1</td>\n",
       "      <td>730</td>\n",
       "      <td>play nice game much cheater almost imposs impr...</td>\n",
       "      <td>83</td>\n",
       "    </tr>\n",
       "    <tr>\n",
       "      <th>2</th>\n",
       "      <td>2</td>\n",
       "      <td>271590</td>\n",
       "      <td>hour shark card invest mod exploit use ever ba...</td>\n",
       "      <td>96</td>\n",
       "    </tr>\n",
       "    <tr>\n",
       "      <th>3</th>\n",
       "      <td>3</td>\n",
       "      <td>440</td>\n",
       "      <td>first download game februari first valv game f...</td>\n",
       "      <td>92</td>\n",
       "    </tr>\n",
       "    <tr>\n",
       "      <th>4</th>\n",
       "      <td>4</td>\n",
       "      <td>252950</td>\n",
       "      <td>rocket leagu less sport game actual sport fifa...</td>\n",
       "      <td>86</td>\n",
       "    </tr>\n",
       "  </tbody>\n",
       "</table>\n",
       "</div>"
      ],
      "text/plain": [
       "   Unnamed: 0      id                                               text  \\\n",
       "0           0     570  k want great life job money girl etc play game...   \n",
       "1           1     730  play nice game much cheater almost imposs impr...   \n",
       "2           2  271590  hour shark card invest mod exploit use ever ba...   \n",
       "3           3     440  first download game februari first valv game f...   \n",
       "4           4  252950  rocket leagu less sport game actual sport fifa...   \n",
       "\n",
       "   score  \n",
       "0     90  \n",
       "1     83  \n",
       "2     96  \n",
       "3     92  \n",
       "4     86  "
      ]
     },
     "execution_count": 4,
     "metadata": {},
     "output_type": "execute_result"
    }
   ],
   "source": [
    "df.head()"
   ]
  },
  {
   "cell_type": "code",
   "execution_count": 5,
   "metadata": {},
   "outputs": [],
   "source": [
    "df.shape\n",
    "df.dropna(inplace = True)"
   ]
  },
  {
   "cell_type": "code",
   "execution_count": 6,
   "metadata": {},
   "outputs": [],
   "source": [
    "X_train,X_test,y_train,y_test=train_test_split(df['text'],\n",
    "                                              df['score'],\n",
    "                                              test_size=0.25,\n",
    "                                              random_state=0)"
   ]
  },
  {
   "cell_type": "code",
   "execution_count": 7,
   "metadata": {},
   "outputs": [],
   "source": [
    "#set type\n",
    "X_train=X_train.values.astype('U')\n",
    "X_test=X_test.values.astype('U')"
   ]
  },
  {
   "cell_type": "code",
   "execution_count": 8,
   "metadata": {},
   "outputs": [],
   "source": [
    "#1-gram\n",
    "vect=CountVectorizer(ngram_range=(1,1),min_df=5).fit(X_train)\n",
    "vect_name=vect.get_feature_names()\n",
    "X_train_vectorized = vect.transform(X_train)"
   ]
  },
  {
   "cell_type": "code",
   "execution_count": 9,
   "metadata": {},
   "outputs": [],
   "source": [
    "# 2-gram\n",
    "vect_bigram=CountVectorizer(ngram_range=(1,2),min_df=5).fit(X_train)\n",
    "X_train_bivectorized = vect_bigram.transform(X_train)"
   ]
  },
  {
   "cell_type": "code",
   "execution_count": 10,
   "metadata": {},
   "outputs": [],
   "source": [
    "# 3-gram\n",
    "vect_trigram=CountVectorizer(ngram_range=(1,3),min_df=5).fit(X_train)\n",
    "X_train_trivectorized = vect_trigram.transform(X_train)"
   ]
  },
  {
   "cell_type": "code",
   "execution_count": 11,
   "metadata": {},
   "outputs": [],
   "source": [
    "# Linear Regression\n",
    "from sklearn import linear_model\n",
    "from sklearn.metrics import r2_score\n",
    "# 1-gram\n",
    "model = linear_model.LinearRegression()\n",
    "model.fit(X_train_vectorized, y_train)\n",
    "score_pred = model.predict(vect.transform(X_test))\n",
    "# 2-gram\n",
    "model_bigram=linear_model.LinearRegression()\n",
    "model_bigram.fit(X_train_bivectorized,y_train)\n",
    "predictions_bigram=model_bigram.predict(vect_bigram.transform(X_test))\n",
    "# 3-gram\n",
    "model_trigram=linear_model.LinearRegression()\n",
    "model_trigram.fit(X_train_trivectorized,y_train)\n",
    "predictions_trigram=model_trigram.predict(vect_trigram.transform(X_test))"
   ]
  },
  {
   "cell_type": "code",
   "execution_count": 37,
   "metadata": {},
   "outputs": [
    {
     "name": "stderr",
     "output_type": "stream",
     "text": [
      "/anaconda3/envs/mypython3/lib/python3.7/site-packages/sklearn/linear_model/coordinate_descent.py:459: ConvergenceWarning: Objective did not converge. You might want to increase the number of iterations. Duality gap: 21.98880694868022, tolerance: 0.7470068965517244\n",
      "  max_iter, tol, rng, random, positive)\n"
     ]
    },
    {
     "name": "stdout",
     "output_type": "stream",
     "text": [
      "0.9999080976585347\n",
      "0.001945015930420403\n"
     ]
    }
   ],
   "source": [
    "ls = linear_model.Lasso(alpha=0.01)\n",
    "ls.fit(vect.transform(df['text'].values.astype('U'))\n",
    "       , df['score'])\n",
    "lll = ls.predict(vect.transform(X_test))\n",
    "print(r2_score(lll,y_test))\n",
    "print(mean_squared_error(lll,y_test))"
   ]
  },
  {
   "cell_type": "code",
   "execution_count": 12,
   "metadata": {},
   "outputs": [
    {
     "name": "stdout",
     "output_type": "stream",
     "text": [
      "-0.3738671711853754\n",
      "17.077917174944066\n",
      "-0.42308978136500075\n",
      "16.62826223202141\n",
      "-0.4225145565611168\n",
      "17.077917174944066\n"
     ]
    }
   ],
   "source": [
    "#results for linear regression\n",
    "# 1-gram\n",
    "print(r2_score(score_pred,y_test))\n",
    "print(mean_squared_error(score_pred,y_test))\n",
    "# 2-gram\n",
    "print(r2_score(predictions_bigram,y_test))\n",
    "print(mean_squared_error(predictions_bigram,y_test))\n",
    "# 3-gram\n",
    "print(r2_score(predictions_trigram,y_test))\n",
    "print(mean_squared_error(score_pred,y_test))"
   ]
  },
  {
   "cell_type": "markdown",
   "metadata": {},
   "source": [
    "## Super Vector Regression"
   ]
  },
  {
   "cell_type": "code",
   "execution_count": 49,
   "metadata": {},
   "outputs": [
    {
     "name": "stderr",
     "output_type": "stream",
     "text": [
      "/anaconda3/envs/mypython3/lib/python3.7/site-packages/sklearn/model_selection/_search.py:813: DeprecationWarning: The default of the `iid` parameter will change from True to False in version 0.22 and will be removed in 0.24. This will change numeric results when test-set sizes are unequal.\n",
      "  DeprecationWarning)\n"
     ]
    },
    {
     "data": {
      "text/plain": [
       "GridSearchCV(cv=5, error_score='raise-deprecating',\n",
       "             estimator=SVR(C=1.0, cache_size=200, coef0=0.0, degree=3,\n",
       "                           epsilon=0.1, gamma='scale', kernel='rbf',\n",
       "                           max_iter=-1, shrinking=True, tol=0.001,\n",
       "                           verbose=False),\n",
       "             iid='warn', n_jobs=None,\n",
       "             param_grid={'C': range(1, 20), 'degree': range(1, 10),\n",
       "                         'epsilon': array([0. , 0.1, 0.2, 0.3, 0.4, 0.5, 0.6, 0.7, 0.8, 0.9])},\n",
       "             pre_dispatch='2*n_jobs', refit=True, return_train_score=False,\n",
       "             scoring=None, verbose=0)"
      ]
     },
     "execution_count": 49,
     "metadata": {},
     "output_type": "execute_result"
    }
   ],
   "source": [
    "from sklearn.svm import SVR\n",
    "from sklearn.model_selection import GridSearchCV\n",
    "\n",
    "gscv = GridSearchCV(SVR(kernel='linear', gamma='scale'), cv=5,\n",
    "                   param_grid={\"C\": range(1,20),\n",
    "                               'degree':range(1,10), 'epsilon': np.arange(0,1, 0.1)})\n",
    "gscv.fit(X_train_vectorized, y_train)"
   ]
  },
  {
   "cell_type": "code",
   "execution_count": 50,
   "metadata": {},
   "outputs": [
    {
     "data": {
      "text/plain": [
       "{'C': 19, 'degree': 1, 'epsilon': 0.9}"
      ]
     },
     "execution_count": 50,
     "metadata": {},
     "output_type": "execute_result"
    }
   ],
   "source": [
    "gscv.best_params_"
   ]
  },
  {
   "cell_type": "markdown",
   "metadata": {},
   "source": [
    "## kernel = linear "
   ]
  },
  {
   "cell_type": "code",
   "execution_count": 13,
   "metadata": {},
   "outputs": [],
   "source": [
    "from sklearn.svm import SVR\n",
    "from sklearn.model_selection import GridSearchCV\n",
    "# 1-gram\n",
    "model = SVR(kernel='linear', gamma='scale', C = 19, degree = 1, epsilon = 0.9)\n",
    "model.fit(X_train_vectorized, y_train)\n",
    "score_pred = model.predict(vect.transform(X_test))\n",
    "# 2-gram\n",
    "model_bigram=SVR(kernel='linear', gamma='scale', C = 19, degree = 1, epsilon = 0.9)\n",
    "model_bigram.fit(X_train_bivectorized,y_train)\n",
    "predictions_bigram=model_bigram.predict(vect_bigram.transform(X_test))\n",
    "# 3-gram\n",
    "model_trigram=SVR(kernel='linear', gamma='scale', C = 19, degree = 1, epsilon = 0.9)\n",
    "model_trigram.fit(X_train_trivectorized,y_train)\n",
    "predictions_trigram=model_trigram.predict(vect_trigram.transform(X_test))"
   ]
  },
  {
   "cell_type": "code",
   "execution_count": 19,
   "metadata": {},
   "outputs": [
    {
     "name": "stdout",
     "output_type": "stream",
     "text": [
      "-26.82276900995023\n",
      "21.131486286074086\n",
      "3.969048231833208\n",
      "[[1.         0.25561371]\n",
      " [0.25561371 1.        ]]\n",
      "-27.13514305255644\n",
      "21.08086639426944\n",
      "3.969048231833208\n",
      "-27.18949958726813\n",
      "21.131486286074086\n",
      "3.969048231833208\n"
     ]
    }
   ],
   "source": [
    "#results for svm regression\n",
    "# 1-gram\n",
    "print(r2_score(score_pred,y_test))\n",
    "print(mean_squared_error(score_pred,y_test))\n",
    "print(mean_absolute_error(score_pred,y_test))\n",
    "# 2-gram\n",
    "print(r2_score(predictions_bigram,y_test))\n",
    "print(mean_squared_error(predictions_bigram,y_test))\n",
    "print(mean_absolute_error(score_pred,y_test))\n",
    "# 3-gram\n",
    "print(r2_score(predictions_trigram,y_test))\n",
    "print(mean_squared_error(score_pred,y_test))\n",
    "print(mean_absolute_error(score_pred,y_test))"
   ]
  },
  {
   "cell_type": "markdown",
   "metadata": {},
   "source": [
    "## kernel = poly"
   ]
  },
  {
   "cell_type": "code",
   "execution_count": 15,
   "metadata": {},
   "outputs": [],
   "source": [
    "# 1-gram\n",
    "model = SVR(kernel='poly', gamma='scale')\n",
    "model.fit(X_train_vectorized, y_train)\n",
    "score_pred = model.predict(vect.transform(X_test))\n",
    "# 2-gram\n",
    "model_bigram=SVR(kernel='poly', gamma='scale')\n",
    "model_bigram.fit(X_train_bivectorized,y_train)\n",
    "predictions_bigram=model_bigram.predict(vect_bigram.transform(X_test))\n",
    "# 3-gram\n",
    "model_trigram=SVR(kernel='poly', gamma='scale')\n",
    "model_trigram.fit(X_train_trivectorized,y_train)\n",
    "predictions_trigram=model_trigram.predict(vect_trigram.transform(X_test))"
   ]
  },
  {
   "cell_type": "code",
   "execution_count": 16,
   "metadata": {},
   "outputs": [
    {
     "name": "stdout",
     "output_type": "stream",
     "text": [
      "-11.176211012308881\n",
      "20.925583101126062\n",
      "3.883298226652802\n",
      "-11.274937345982142\n",
      "20.796521879396295\n",
      "3.883298226652802\n",
      "-11.300432482803304\n",
      "20.925583101126062\n",
      "3.883298226652802\n"
     ]
    }
   ],
   "source": [
    "#results for svm regression\n",
    "# 1-gram\n",
    "print(r2_score(score_pred,y_test))\n",
    "print(mean_squared_error(score_pred,y_test))\n",
    "print(mean_absolute_error(score_pred,y_test))\n",
    "# 2-gram\n",
    "print(r2_score(predictions_bigram,y_test))\n",
    "print(mean_squared_error(predictions_bigram,y_test))\n",
    "print(mean_absolute_error(score_pred,y_test))\n",
    "# 3-gram\n",
    "print(r2_score(predictions_trigram,y_test))\n",
    "print(mean_squared_error(score_pred,y_test))\n",
    "print(mean_absolute_error(score_pred,y_test))"
   ]
  },
  {
   "cell_type": "markdown",
   "metadata": {},
   "source": [
    "## kernel = rbf"
   ]
  },
  {
   "cell_type": "code",
   "execution_count": 17,
   "metadata": {},
   "outputs": [],
   "source": [
    "# 1-gram\n",
    "model = SVR(kernel='rbf', gamma='scale')\n",
    "model.fit(X_train_vectorized, y_train)\n",
    "score_pred = model.predict(vect.transform(X_test))\n",
    "# 2-gram\n",
    "model_bigram=SVR(kernel='rbf', gamma='scale')\n",
    "model_bigram.fit(X_train_bivectorized,y_train)\n",
    "predictions_bigram=model_bigram.predict(vect_bigram.transform(X_test))\n",
    "# 3-gram\n",
    "model_trigram=SVR(kernel='rbf', gamma='scale')\n",
    "model_trigram.fit(X_train_trivectorized,y_train)\n",
    "predictions_trigram=model_trigram.predict(vect_trigram.transform(X_test))"
   ]
  },
  {
   "cell_type": "code",
   "execution_count": 18,
   "metadata": {},
   "outputs": [
    {
     "name": "stdout",
     "output_type": "stream",
     "text": [
      "-26.82276900995023\n",
      "21.131486286074086\n",
      "3.969048231833208\n",
      "-27.13514305255644\n",
      "21.08086639426944\n",
      "3.969048231833208\n",
      "-27.18949958726813\n",
      "21.131486286074086\n",
      "3.969048231833208\n"
     ]
    }
   ],
   "source": [
    "#results for svm regression\n",
    "# 1-gram\n",
    "print(r2_score(score_pred,y_test))\n",
    "print(mean_squared_error(score_pred,y_test))\n",
    "print(mean_absolute_error(score_pred,y_test))\n",
    "# 2-gram\n",
    "print(r2_score(predictions_bigram,y_test))\n",
    "print(mean_squared_error(predictions_bigram,y_test))\n",
    "print(mean_absolute_error(score_pred,y_test))\n",
    "# 3-gram\n",
    "print(r2_score(predictions_trigram,y_test))\n",
    "print(mean_squared_error(score_pred,y_test))\n",
    "print(mean_absolute_error(score_pred,y_test))"
   ]
  },
  {
   "cell_type": "markdown",
   "metadata": {},
   "source": [
    "## Random Forest Regression"
   ]
  },
  {
   "cell_type": "code",
   "execution_count": 41,
   "metadata": {},
   "outputs": [],
   "source": [
    "from sklearn.ensemble import RandomForestRegressor\n",
    "from sklearn.datasets import make_regression"
   ]
  },
  {
   "cell_type": "code",
   "execution_count": 45,
   "metadata": {},
   "outputs": [],
   "source": [
    "# 1-gram\n",
    "regr1 = RandomForestRegressor(max_depth=10, random_state=0, \n",
    "                             n_estimators=100)\n",
    "regr1.fit(X_train_vectorized, y_train)\n",
    "score_pred = regr1.predict(vect.transform(X_test))\n",
    "# 2-gram\n",
    "regr2 = RandomForestRegressor(max_depth=10, random_state=0, \n",
    "                             n_estimators=100)\n",
    "regr2.fit(X_train_bivectorized, y_train)\n",
    "predictions_bigram = regr2.predict(vect_bigram.transform(X_test))\n",
    "# 3-gram\n",
    "regr3 = RandomForestRegressor(max_depth=10, random_state=0, \n",
    "                             n_estimators=100)\n",
    "regr3.fit(X_train_trivectorized, y_train)\n",
    "predictions_trigram = regr3.predict(vect_trigram.transform(X_test))"
   ]
  },
  {
   "cell_type": "code",
   "execution_count": 46,
   "metadata": {},
   "outputs": [
    {
     "name": "stdout",
     "output_type": "stream",
     "text": [
      "-4.905868688129202\n",
      "17.697042016215544\n",
      "3.459782265799247\n",
      "-4.911816247603425\n",
      "17.907333208959596\n",
      "3.459782265799247\n",
      "-5.176741118248769\n",
      "17.697042016215544\n",
      "3.459782265799247\n"
     ]
    }
   ],
   "source": [
    "# 1-gram\n",
    "print(r2_score(score_pred,y_test))\n",
    "print(mean_squared_error(score_pred,y_test))\n",
    "print(mean_absolute_error(score_pred,y_test))\n",
    "# 2-gram\n",
    "print(r2_score(predictions_bigram,y_test))\n",
    "print(mean_squared_error(predictions_bigram,y_test))\n",
    "print(mean_absolute_error(score_pred,y_test))\n",
    "# 3-gram\n",
    "print(r2_score(predictions_trigram,y_test))\n",
    "print(mean_squared_error(score_pred,y_test))\n",
    "print(mean_absolute_error(score_pred,y_test))"
   ]
  },
  {
   "cell_type": "code",
   "execution_count": null,
   "metadata": {},
   "outputs": [],
   "source": []
  }
 ],
 "metadata": {
  "kernelspec": {
   "display_name": "Python 3",
   "language": "python",
   "name": "python3"
  },
  "language_info": {
   "codemirror_mode": {
    "name": "ipython",
    "version": 3
   },
   "file_extension": ".py",
   "mimetype": "text/x-python",
   "name": "python",
   "nbconvert_exporter": "python",
   "pygments_lexer": "ipython3",
   "version": "3.7.3"
  }
 },
 "nbformat": 4,
 "nbformat_minor": 2
}
